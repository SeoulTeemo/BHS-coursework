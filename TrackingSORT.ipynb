{
  "nbformat": 4,
  "nbformat_minor": 0,
  "metadata": {
    "accelerator": "GPU",
    "colab": {
      "name": "Tracking_SORT.ipynb",
      "provenance": [],
      "collapsed_sections": []
    },
    "kernelspec": {
      "display_name": "Python 3",
      "name": "python3"
    },
    "language_info": {
      "name": "python"
    }
  },
  "cells": [
    {
      "cell_type": "markdown",
      "metadata": {
        "id": "2wbY-fyNkNdt"
      },
      "source": [
        "# Mounting Drive, Importing Libraries and Algorithm"
      ]
    },
    {
      "cell_type": "code",
      "metadata": {
        "colab": {
          "base_uri": "https://localhost:8080/"
        },
        "id": "08t_q6xRbdbU",
        "outputId": "1eba1d4a-0071-49a9-f460-00e169837d91"
      },
      "source": [
        "#Mount the drive\n",
        "from google.colab import drive\n",
        "drive.mount('/content/drive', force_remount=True)"
      ],
      "execution_count": null,
      "outputs": [
        {
          "output_type": "stream",
          "text": [
            "Mounted at /content/drive\n"
          ],
          "name": "stdout"
        }
      ]
    },
    {
      "cell_type": "code",
      "metadata": {
        "colab": {
          "base_uri": "https://localhost:8080/"
        },
        "id": "8LWquN_ibkvb",
        "outputId": "1ed62b1b-89ce-4e07-f0e6-a1baad8ac95d"
      },
      "source": [
        "#Clone SORT\n",
        "!git clone https://github.com/abewley/sort "
      ],
      "execution_count": null,
      "outputs": [
        {
          "output_type": "stream",
          "text": [
            "Cloning into 'sort'...\n",
            "remote: Enumerating objects: 202, done.\u001b[K\n",
            "remote: Counting objects: 100% (4/4), done.\u001b[K\n",
            "remote: Compressing objects: 100% (4/4), done.\u001b[K\n",
            "remote: Total 202 (delta 0), reused 1 (delta 0), pack-reused 198\u001b[K\n",
            "Receiving objects: 100% (202/202), 1.21 MiB | 1.63 MiB/s, done.\n",
            "Resolving deltas: 100% (69/69), done.\n"
          ],
          "name": "stdout"
        }
      ]
    },
    {
      "cell_type": "code",
      "metadata": {
        "colab": {
          "base_uri": "https://localhost:8080/"
        },
        "id": "xALuYyO3j5F8",
        "outputId": "12fe58e0-2995-4b4f-eb21-bc34269ea5f8"
      },
      "source": [
        "!python -m pip install filterpy"
      ],
      "execution_count": null,
      "outputs": [
        {
          "output_type": "stream",
          "text": [
            "Collecting filterpy\n",
            "\u001b[?25l  Downloading https://files.pythonhosted.org/packages/f6/1d/ac8914360460fafa1990890259b7fa5ef7ba4cd59014e782e4ab3ab144d8/filterpy-1.4.5.zip (177kB)\n",
            "\u001b[K     |████████████████████████████████| 184kB 2.9MB/s \n",
            "\u001b[?25hRequirement already satisfied: numpy in /usr/local/lib/python3.7/dist-packages (from filterpy) (1.19.5)\n",
            "Requirement already satisfied: scipy in /usr/local/lib/python3.7/dist-packages (from filterpy) (1.4.1)\n",
            "Requirement already satisfied: matplotlib in /usr/local/lib/python3.7/dist-packages (from filterpy) (3.2.2)\n",
            "Requirement already satisfied: python-dateutil>=2.1 in /usr/local/lib/python3.7/dist-packages (from matplotlib->filterpy) (2.8.1)\n",
            "Requirement already satisfied: kiwisolver>=1.0.1 in /usr/local/lib/python3.7/dist-packages (from matplotlib->filterpy) (1.3.1)\n",
            "Requirement already satisfied: pyparsing!=2.0.4,!=2.1.2,!=2.1.6,>=2.0.1 in /usr/local/lib/python3.7/dist-packages (from matplotlib->filterpy) (2.4.7)\n",
            "Requirement already satisfied: cycler>=0.10 in /usr/local/lib/python3.7/dist-packages (from matplotlib->filterpy) (0.10.0)\n",
            "Requirement already satisfied: six>=1.5 in /usr/local/lib/python3.7/dist-packages (from python-dateutil>=2.1->matplotlib->filterpy) (1.15.0)\n",
            "Building wheels for collected packages: filterpy\n",
            "  Building wheel for filterpy (setup.py) ... \u001b[?25l\u001b[?25hdone\n",
            "  Created wheel for filterpy: filename=filterpy-1.4.5-cp37-none-any.whl size=110476 sha256=4cae3e48a946f2beb45675c9fe76065af6d650dcc354ddfc134565e2dfadb66c\n",
            "  Stored in directory: /root/.cache/pip/wheels/c3/0c/dd/e92392c3f38a41371602d99fc77d6c1d42aadbf0c6afccdd02\n",
            "Successfully built filterpy\n",
            "Installing collected packages: filterpy\n",
            "Successfully installed filterpy-1.4.5\n"
          ],
          "name": "stdout"
        }
      ]
    },
    {
      "cell_type": "code",
      "metadata": {
        "id": "x0At4qE_ieq0"
      },
      "source": [
        "#Import library\n",
        "from sort.sort import *\n",
        "import cv2\n",
        "from google.colab.patches import cv2_imshow\n",
        "import matplotlib.pyplot as plt\n",
        "import random\n",
        "import imutils"
      ],
      "execution_count": null,
      "outputs": []
    },
    {
      "cell_type": "code",
      "metadata": {
        "id": "TPi_sKMSjKP3"
      },
      "source": [
        "#Get colors for bounding boxes\n",
        "colors = []\n",
        "for j in range(3000): colors.append(((int)(random.randrange(255)), (int)(random.randrange(255)), (int)(random.randrange(255))))"
      ],
      "execution_count": null,
      "outputs": []
    },
    {
      "cell_type": "code",
      "metadata": {
        "colab": {
          "background_save": true
        },
        "id": "1ghutwHBktwp"
      },
      "source": [
        "mot_tracker = Sort()\n",
        "\n",
        "#Set size\n",
        "dim = (640, 640)\n",
        "\n",
        "#Set counter\n",
        "n = 1\n",
        "for n in range(1, 2452):\n",
        "  #Read image\n",
        "  cap = cv2.VideoCapture('/content/drive/MyDrive/images/svo_oct05-04_Trim ' + str(n).zfill(4) + '.jpg')\n",
        "  ret, img = cap.read()\n",
        "\n",
        "  #Resize image\n",
        "  img = cv2.resize(img, (640, 640))\n",
        "\n",
        "  #Try to read the image if there is a bounding box. If not, read the empty file.\n",
        "  try:\n",
        "    #Read coordinates of bounding boxes\n",
        "    coords = open('/content/drive/MyDrive/labels/content/yolov5/runs/detect/out_trim3/labels/svo_oct05-04_Trim_' + str(n) + '.txt')\n",
        "  except:\n",
        "    #No coordinates available\n",
        "    coords = open('/content/drive/MyDrive/labels/content/yolov5/runs/detect/out_trim3/labels/empty.txt')\n",
        "\n",
        "# Stripping data from the txt file into a list #\n",
        "  list_of_lists = []\n",
        "  for line in coords:\n",
        "    stripped_line = line.strip()\n",
        "    line_list = stripped_line.split()\n",
        "    list_of_lists.append(line_list)\n",
        "  coords.close()\n",
        "\n",
        "# Conversion of str to int #\n",
        "  stage1 = []\n",
        "  for i in range(0, len(list_of_lists)):\n",
        "    test_list = list(map(float, list_of_lists[i])) \n",
        "    stage1.append(test_list)\n",
        "\n",
        "\n",
        "# Denormalize coordinates\n",
        "  stage2 = []\n",
        "  try:\n",
        "    h,w,_ = img.shape\n",
        "  except:\n",
        "    continue\n",
        "  mul = [1,w,h,w,h]\n",
        "  for x in stage1:\n",
        "    xx, yy, w, h, c =  x[1] * mul[1], x[2]*mul[2], x[3]*mul[3], x[4]*mul[4] , 0.4  \n",
        "    stage2.append([xx,yy,w,h,c])\n",
        "\n",
        "    #Check for incidents\n",
        "    if (yy > 548) or (yy < 280):\n",
        "      print('INCIDENT HAPPENED')\n",
        "\n",
        "\n",
        "# Convert (x_center, y_center, width, height) --> (x_min, y_min, width, height)\n",
        "  stage_final = []\n",
        "  for x in stage2:\n",
        "    xx,yy,w,h,c =  (x[0]-(x[2]/2)) , (x[1]-(x[3]/2)), x[2]*1, x[3]*1, x[4] \n",
        "    x1, y1, x2, y2, c = xx, yy, xx + w, yy + h, c\n",
        "    stage_final.append([x1, y1, x2, y2, c])\n",
        "\n",
        "\n",
        "  result_img = np.copy(img)\n",
        "  if len(stage_final)!=0:\n",
        "    stage_final = np.array(stage_final)\n",
        "    trackers = mot_tracker.update(stage_final)\n",
        "    for d in trackers:\n",
        "      result_img = cv2.rectangle(result_img, ((int)(d[0]), (int)(d[1])), ((int)(d[2]), (int)(d[3])), color_list[(int)(d[4])], 2)\n",
        "      result_img = cv2.putText(result_img, ((str)(d[4])), ((int)(d[0]), (int)(d[1])-10), cv2.FONT_HERSHEY_SIMPLEX, 0.9, color_list[(int)(d[4])], 2)\n",
        "\n",
        "  #Save the result to the Google Drive\n",
        "  name = ('/content/drive/MyDrive/tracking_final/track' + str(n) + '.jpg')\n",
        "  cv2.imwrite(name, result_img)\n",
        "  cv2.waitKey(1)"
      ],
      "execution_count": null,
      "outputs": []
    }
  ]
}